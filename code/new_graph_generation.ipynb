{
 "cells": [
  {
   "cell_type": "code",
   "execution_count": 11,
   "id": "557090db",
   "metadata": {},
   "outputs": [],
   "source": [
    "import numpy as np\n",
    "import os\n",
    "from PIL import Image\n",
    "import matplotlib.cm as cm\n",
    "import matplotlib.pyplot as plt\n",
    "import cv2"
   ]
  },
  {
   "cell_type": "code",
   "execution_count": 12,
   "id": "75c0e234",
   "metadata": {},
   "outputs": [],
   "source": [
    "filepath =\"/home/user/yang/\"\n",
    "#filepath =\"/home/user/Downloads/211116_Yang_source_code/\""
   ]
  },
  {
   "cell_type": "code",
   "execution_count": 13,
   "id": "51922f97",
   "metadata": {},
   "outputs": [
    {
     "data": {
      "text/plain": [
       "871"
      ]
     },
     "execution_count": 13,
     "metadata": {},
     "output_type": "execute_result"
    }
   ],
   "source": [
    "#get atom 2D coordination from 2d_xyz_file\n",
    "os.chdir(filepath + \"sorce_code/example_data/xyz_file/2d_xyz\")###change to the file directory where you save 2D xyz files\n",
    "\n",
    "xyz_file_list=os.listdir(\".\")\n",
    "xyz_file_list.sort(key=lambda x:x[:-2])\n",
    "len(xyz_file_list)\n",
    "#同样测试用\n",
    "#xyz_file_list = xyz_file_list[0:5]"
   ]
  },
  {
   "cell_type": "code",
   "execution_count": 14,
   "id": "eb7c333b",
   "metadata": {},
   "outputs": [
    {
     "data": {
      "text/plain": [
       "871"
      ]
     },
     "execution_count": 14,
     "metadata": {},
     "output_type": "execute_result"
    }
   ],
   "source": [
    "#get GSH reaction probability and fukui value from result file\n",
    "os.chdir(filepath + \"sorce_code/example_data/total\")###change to the file directory where you save total files,which generate from read_all_information\n",
    "\n",
    "result_file_list=os.listdir(\".\")\n",
    "result_file_list.sort(key=lambda x:x[:-2])\n",
    "len(result_file_list)\n",
    "#测试图像用\n",
    "#result_file_list = result_file_list[0:5]\n",
    "len(result_file_list)"
   ]
  },
  {
   "cell_type": "code",
   "execution_count": 15,
   "id": "2918b10a",
   "metadata": {},
   "outputs": [],
   "source": [
    "def calculat_gaussian(x,y,m,n,k):\n",
    "    sigma=0.6\n",
    "\n",
    "    gaussian = (1/(2*np.pi*sigma**2))* \\\n",
    "    np.exp(-((pow(x-m, 2) + pow(y-n, 2)) \\\n",
    "    /(2*pow(sigma, 2))))\n",
    "    gaussian=gaussian*k\n",
    "    \n",
    "    return gaussian\n",
    "    "
   ]
  },
  {
   "cell_type": "code",
   "execution_count": 16,
   "id": "d4208d92",
   "metadata": {},
   "outputs": [],
   "source": [
    "xyz_file_path = [\n",
    "    os.path.join(filepath + \"sorce_code/example_data/xyz_file/2d_xyz\",x)###change to the file directory where you save 2D xyz files\n",
    "    for x in xyz_file_list\n",
    "]\n",
    "result_file_path = [\n",
    "    os.path.join(filepath + \"sorce_code/example_data/total\",x)###change to the file directory where you save total files,which generate from read_all_information\n",
    "    for x in result_file_list\n",
    "]"
   ]
  },
  {
   "cell_type": "code",
   "execution_count": 17,
   "id": "e167844f",
   "metadata": {},
   "outputs": [],
   "source": [
    "xyz_file_path.sort(key=lambda x:x[:-4])"
   ]
  },
  {
   "cell_type": "code",
   "execution_count": 18,
   "id": "27d7c507",
   "metadata": {},
   "outputs": [],
   "source": [
    "result_file_path.sort(key=lambda x:x[:-4])"
   ]
  },
  {
   "cell_type": "code",
   "execution_count": 19,
   "id": "f8287a4d",
   "metadata": {},
   "outputs": [],
   "source": [
    "for i in range(len(xyz_file_list)):\n",
    "    result_file =  result_file_path[i]\n",
    "    xyz_file = xyz_file_path[i]\n",
    "    \n",
    "    coor_x = []\n",
    "    coor_y = []\n",
    "    with open (xyz_file,\"r\") as f:\n",
    "        cp = f.readlines()[2:]\n",
    "    for line in cp:\n",
    "        line=line.split()\n",
    "        coor_x.append(line[1])\n",
    "        coor_y.append(line[2])\n",
    "    coor_x_num=[np.float(n) for n in coor_x]\n",
    "    coor_y_num=[np.float(n) for n in coor_y]\n",
    "    \n",
    "    x_start = min(coor_x_num)-2\n",
    "    x_end = max(coor_x_num)+2\n",
    "    y_start = min(coor_y_num)-2\n",
    "    y_end = max(coor_y_num)+2\n",
    "    start_min = min(x_start,y_start)\n",
    "    end_max = max(x_end,y_end)\n",
    "    x=np.linspace(start_min,end_max,400)\n",
    "    y=np.linspace(start_min,end_max,400)\n",
    "    X,Y=np.meshgrid(x,y)\n",
    "    os.chdir(filepath + \"sorce_code/example_data/total\")###change to the file directory where you save total files,which generate from read_all_information\n",
    "    result_file_list=os.listdir(\".\")\n",
    "    result_file_list.sort(key=lambda x:x[:-2])\n",
    "    result_filename = result_file_list[i]\n",
    "    total_value = np.loadtxt(result_filename,delimiter=',')\n",
    "    #GSH = total_value[:,3]*10\n",
    "    GSH = total_value[:,3]*50\n",
    "    #GSH= 0.5*(total_value[:,3]+total_value[:,4])*10 #平均Fukui函数#从0开始数第二列是GSH发生概率\n",
    "    \n",
    "    volume = []\n",
    "    for j in range(len(coor_x_num)):\n",
    "        x = np.float(coor_x[j])#                                  原子xy坐标输入\n",
    "        y = np.float(coor_y[j])\n",
    "        k = np.float(GSH[j]) #                                 输入该原子对应的记述子的值\n",
    "        result = calculat_gaussian(X,Y,x,y,k)#                        把该值进行高斯扩散，得到一张图\n",
    "        \n",
    "        volume.append(result)\n",
    "    volume = np.array(volume)\n",
    "    result=np.sum(volume,axis=0)#                                       把所有的值都叠加起来\n",
    "    \n",
    "    \n",
    "\n",
    "    \n",
    "    result = result.clip(-2,2)\n",
    "    result = (result + 2) / (4) #to normalize\n",
    "    result = (result * 200)\n",
    "    result = np.expand_dims(result, 2)\n",
    "    \n",
    "    sv = np.zeros([400, 400, 2])\n",
    "    sv[:, :, 0] = 200 #you can modify value of S for HSV\n",
    "    sv[:, :, 1] = 200 #you can modify value of V for HSV\n",
    "    \n",
    "\n",
    "    hsv_image = np.concatenate([result, sv], 2).astype(np.uint8)\n",
    "    rgb_image = cv2.cvtColor(hsv_image, cv2.COLOR_HSV2RGB)\n",
    "    #image = Image.fromarray(result, 'L').convert('RGB')\n",
    "    #image = cv2.cvtColor(image, cv2.COLOR_GRAY2RGB)\n",
    "    image = Image.fromarray(rgb_image)\n",
    "    #image = image.convert('L')\n",
    "    #image.show()\n",
    "    #print(image.size)\n",
    "\n",
    "    #print(re)\n",
    "    #im = Image.fromarray(result)\n",
    "    #im.show()\n",
    "    #im = im.convert('P')\n",
    "    image.save(filepath + \"sorce_code/example_data/experiment_data/red_blue_fukui_value/total_target_%s.png\"%(result_filename))\n",
    "    image.close()\n",
    "    "
   ]
  },
  {
   "cell_type": "code",
   "execution_count": 20,
   "id": "8f5cd6a8",
   "metadata": {},
   "outputs": [],
   "source": [
    "for i in range(len(xyz_file_list)):#分子的各个原子坐标，储存在xyz文件中，\n",
    "    result_file =  result_file_path[i]\n",
    "    xyz_file = xyz_file_path[i]\n",
    "    \n",
    "    coor_x = []\n",
    "    coor_y = []\n",
    "    with open (xyz_file,\"r\") as f:\n",
    "        cp = f.readlines()[2:]\n",
    "    for line in cp:\n",
    "        line=line.split()\n",
    "        coor_x.append(line[1])\n",
    "        coor_y.append(line[2])\n",
    "    coor_x_num=[np.float(n) for n in coor_x]\n",
    "    coor_y_num=[np.float(n) for n in coor_y]\n",
    "    \n",
    "    x_start = min(coor_x_num)-2\n",
    "    x_end = max(coor_x_num)+2\n",
    "    y_start = min(coor_y_num)-2\n",
    "    y_end = max(coor_y_num)+2\n",
    "    start_min = min(x_start,y_start)\n",
    "    end_max = max(x_end,y_end)\n",
    "    x=np.linspace(start_min,end_max,400)\n",
    "    y=np.linspace(start_min,end_max,400)\n",
    "    X,Y=np.meshgrid(x,y)\n",
    "    os.chdir(filepath + \"sorce_code/example_data/total\")\n",
    "    result_file_list=os.listdir(\".\")\n",
    "    result_file_list.sort(key=lambda x:x[:-2])\n",
    "    result_filename = result_file_list[i]\n",
    "    total_value = np.loadtxt(result_filename,delimiter=',')\n",
    "    #GSH = total_value[:,2]*10#从0开始数第二列是GSH发生概率\n",
    "    GSH = total_value[:,2]*50\n",
    "    #GSH= 0.5*(total_value[:,3]+total_value[:,4])*10 #平均赴京函数\n",
    "    \n",
    "    volume = []\n",
    "    for j in range(len(coor_x_num)):\n",
    "        x = np.float(coor_x[j])#原子xy坐标输入\n",
    "        y = np.float(coor_y[j])\n",
    "        k = np.float(GSH[j]) #输入该原子对应的记述子的值\n",
    "        result = calculat_gaussian(X,Y,x,y,k)#把该值进行高斯扩散，得到一张图\n",
    "        \n",
    "        volume.append(result)\n",
    "    volume = np.array(volume)\n",
    "    result=np.sum(volume,axis=0)#把所有的值都叠加起来\n",
    "    \n",
    "    \n",
    "\n",
    "\n",
    "    mask_background_condition_one = result < 0.1#标记其中小于0.005的值\n",
    "    mask_background_condition_two = result > 0\n",
    "    mask_background = mask_background_condition_one * mask_background_condition_two\n",
    "    result[mask_background] = 0#让这些值全都变成0\n",
    "    \n",
    "\n",
    "\n",
    "    #result_filename = result_filename[21:]\n",
    "    mask_4 = result > 0\n",
    "    mask_5 = result <= 0.6\n",
    "    mask_6 = mask_4*mask_5\n",
    "    result[mask_6] = 0.15\n",
    "    \n",
    "\n",
    "    mask_19 = result > 0.6\n",
    "\n",
    "    result[mask_19] = 0.65\n",
    "    key = np.unique(result)\n",
    "    result *= 255\n",
    "    im = Image.fromarray(result)\n",
    "    im = im.convert('L')\n",
    "    im.save(filepath + \"sorce_code/example_data/experiment_data/black_GSH_value/total_target_%s.png\"%(result_filename))\n",
    "    im.close()"
   ]
  },
  {
   "cell_type": "code",
   "execution_count": null,
   "id": "0340f621",
   "metadata": {},
   "outputs": [],
   "source": []
  },
  {
   "cell_type": "code",
   "execution_count": null,
   "id": "779ad4e8",
   "metadata": {},
   "outputs": [],
   "source": []
  }
 ],
 "metadata": {
  "kernelspec": {
   "display_name": "Python 3 (ipykernel)",
   "language": "python",
   "name": "python3"
  },
  "language_info": {
   "codemirror_mode": {
    "name": "ipython",
    "version": 3
   },
   "file_extension": ".py",
   "mimetype": "text/x-python",
   "name": "python",
   "nbconvert_exporter": "python",
   "pygments_lexer": "ipython3",
   "version": "3.8.11"
  }
 },
 "nbformat": 4,
 "nbformat_minor": 5
}
