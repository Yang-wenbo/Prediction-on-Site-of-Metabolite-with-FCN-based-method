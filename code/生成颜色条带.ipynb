{
 "cells": [
  {
   "cell_type": "code",
   "execution_count": 18,
   "id": "e48e199a",
   "metadata": {},
   "outputs": [],
   "source": [
    "import numpy as np \n",
    "import cv2\n",
    "import numpy as np\n",
    "import os\n",
    "from PIL import Image\n",
    "import matplotlib.cm as cm\n",
    "import matplotlib.pyplot as plt\n",
    "import cv2"
   ]
  },
  {
   "cell_type": "code",
   "execution_count": 25,
   "id": "e7151fff",
   "metadata": {},
   "outputs": [
    {
     "ename": "error",
     "evalue": "OpenCV(4.5.1) ../modules/core/src/merge.dispatch.cpp:129: error: (-215:Assertion failed) mv[i].size == mv[0].size && mv[i].depth() == depth in function 'merge'\n",
     "output_type": "error",
     "traceback": [
      "\u001b[0;31m---------------------------------------------------------------------------\u001b[0m",
      "\u001b[0;31merror\u001b[0m                                     Traceback (most recent call last)",
      "\u001b[0;32m/tmp/ipykernel_9289/815004678.py\u001b[0m in \u001b[0;36m<module>\u001b[0;34m\u001b[0m\n\u001b[1;32m      8\u001b[0m \u001b[0;32mfor\u001b[0m \u001b[0mhue\u001b[0m \u001b[0;32min\u001b[0m \u001b[0mh_array\u001b[0m\u001b[0;34m:\u001b[0m\u001b[0;34m\u001b[0m\u001b[0;34m\u001b[0m\u001b[0m\n\u001b[1;32m      9\u001b[0m     \u001b[0mh\u001b[0m \u001b[0;34m=\u001b[0m \u001b[0mhue\u001b[0m\u001b[0;34m*\u001b[0m\u001b[0mnp\u001b[0m\u001b[0;34m.\u001b[0m\u001b[0mones\u001b[0m\u001b[0;34m(\u001b[0m\u001b[0;34m(\u001b[0m\u001b[0;36m500\u001b[0m\u001b[0;34m,\u001b[0m\u001b[0;36m500\u001b[0m\u001b[0;34m)\u001b[0m\u001b[0;34m,\u001b[0m \u001b[0mdtype\u001b[0m\u001b[0;34m=\u001b[0m\u001b[0mnp\u001b[0m\u001b[0;34m.\u001b[0m\u001b[0muint8\u001b[0m\u001b[0;34m)\u001b[0m\u001b[0;34m\u001b[0m\u001b[0;34m\u001b[0m\u001b[0m\n\u001b[0;32m---> 10\u001b[0;31m     \u001b[0mhsv_color\u001b[0m \u001b[0;34m=\u001b[0m \u001b[0mcv2\u001b[0m\u001b[0;34m.\u001b[0m\u001b[0mmerge\u001b[0m\u001b[0;34m(\u001b[0m\u001b[0;34m(\u001b[0m\u001b[0mh\u001b[0m\u001b[0;34m,\u001b[0m \u001b[0ms_gradient\u001b[0m\u001b[0;34m,\u001b[0m \u001b[0mv_gradient\u001b[0m\u001b[0;34m)\u001b[0m\u001b[0;34m)\u001b[0m\u001b[0;34m\u001b[0m\u001b[0;34m\u001b[0m\u001b[0m\n\u001b[0m\u001b[1;32m     11\u001b[0m     \u001b[0mrgb_color\u001b[0m \u001b[0;34m=\u001b[0m \u001b[0mcv2\u001b[0m\u001b[0;34m.\u001b[0m\u001b[0mcvtColor\u001b[0m\u001b[0;34m(\u001b[0m\u001b[0mhsv_color\u001b[0m\u001b[0;34m,\u001b[0m \u001b[0mcv2\u001b[0m\u001b[0;34m.\u001b[0m\u001b[0mCOLOR_HSV2BGR\u001b[0m\u001b[0;34m)\u001b[0m\u001b[0;34m\u001b[0m\u001b[0;34m\u001b[0m\u001b[0m\n\u001b[1;32m     12\u001b[0m     \u001b[0mcv2\u001b[0m\u001b[0;34m.\u001b[0m\u001b[0mimshow\u001b[0m\u001b[0;34m(\u001b[0m\u001b[0;34m''\u001b[0m\u001b[0;34m,\u001b[0m \u001b[0mrgb_color\u001b[0m\u001b[0;34m)\u001b[0m\u001b[0;34m\u001b[0m\u001b[0;34m\u001b[0m\u001b[0m\n",
      "\u001b[0;31merror\u001b[0m: OpenCV(4.5.1) ../modules/core/src/merge.dispatch.cpp:129: error: (-215:Assertion failed) mv[i].size == mv[0].size && mv[i].depth() == depth in function 'merge'\n"
     ]
    }
   ],
   "source": [
    "lower_b = np.array([0,50,50])\n",
    "upper_b = np.array([200,255,255])\n",
    "\n",
    "s_gradient = np.ones((500,500), dtype=np.uint8)*np.uint8(200)\n",
    "v_gradient = np.ones((500,500), dtype=np.uint8)*np.uint8(200)\n",
    "h_gradient = np.rot90(np.ones((500,1), dtype=np.uint8)*np.linspace(lower_b[0], upper_b[0], 500, dtype=np.uint8))\n",
    "\n",
    "for hue in h_array:\n",
    "    h = hue*np.ones((500,500), dtype=np.uint8)\n",
    "    hsv_color = cv2.merge((h, s_gradient, v_gradient))\n",
    "    rgb_color = cv2.cvtColor(hsv_color, cv2.COLOR_HSV2BGR)\n",
    "    cv2.imshow('', rgb_color)\n",
    "    cv2.waitKey(250)\n",
    "\n",
    "cv2.destroyAllWindows()"
   ]
  },
  {
   "cell_type": "code",
   "execution_count": 37,
   "id": "74c13c93",
   "metadata": {},
   "outputs": [],
   "source": [
    "lower_b = np.array([0,50,50])\n",
    "upper_b = np.array([150,255,255])\n",
    "result = np.rot90(np.ones((400,1), dtype=np.uint8)*np.linspace(lower_b[0], upper_b[0], 400, dtype=np.uint8))\n",
    "#result = np.ones((400,400), dtype=np.uint8)*np.uint8(200)\n",
    "result = np.expand_dims(result, 2)\n",
    "    \n",
    "sv = np.zeros([400, 400, 2])\n",
    "sv[:, :, 0] = 200 #you can modify value of S for HSV\n",
    "sv[:, :, 1] = 200 #you can modify value of V for HSV\n",
    "    \n",
    "\n",
    "hsv_image = np.concatenate([result, sv], 2).astype(np.uint8)\n",
    "rgb_image = cv2.cvtColor(hsv_image, cv2.COLOR_HSV2RGB)\n",
    "    #image = Image.fromarray(result, 'L').convert('RGB')\n",
    "    #image = cv2.cvtColor(image, cv2.COLOR_GRAY2RGB)\n",
    "image = Image.fromarray(rgb_image)\n",
    "    #image = image.convert('L')\n",
    "    #image.show()\n",
    "    #print(image.size)\n",
    "\n",
    "    #print(re)\n",
    "    #im = Image.fromarray(result)\n",
    "    #im.show()\n",
    "    #im = im.convert('P')\n",
    "image.show()\n",
    "image.save(\"/home/user/yang/color_bar.png\")"
   ]
  },
  {
   "cell_type": "code",
   "execution_count": null,
   "id": "79655d79",
   "metadata": {},
   "outputs": [],
   "source": []
  }
 ],
 "metadata": {
  "kernelspec": {
   "display_name": "Python [conda env:tensorflow] *",
   "language": "python",
   "name": "conda-env-tensorflow-py"
  },
  "language_info": {
   "codemirror_mode": {
    "name": "ipython",
    "version": 3
   },
   "file_extension": ".py",
   "mimetype": "text/x-python",
   "name": "python",
   "nbconvert_exporter": "python",
   "pygments_lexer": "ipython3",
   "version": "3.8.11"
  }
 },
 "nbformat": 4,
 "nbformat_minor": 5
}
